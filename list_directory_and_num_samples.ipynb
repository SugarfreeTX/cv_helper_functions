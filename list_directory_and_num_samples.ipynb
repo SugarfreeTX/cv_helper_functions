{
 "cells": [
  {
   "attachments": {},
   "cell_type": "markdown",
   "metadata": {},
   "source": [
    "# Display folder directory and labels "
   ]
  },
  {
   "attachments": {},
   "cell_type": "markdown",
   "metadata": {},
   "source": [
    "First need the path where the datasets are stored. They need to be already separated into Train, Test, and Valid in the folder at root path.\n",
    "* root_dir - the path to the folder where the dataset is stored \n",
    "* train_dir - where subfolders that are named with the labels\n",
    "* valid_dir - where subfolders that are named with the labels\n",
    "* test_dir - isn't need when displaying this information since it's a set with no labels. \n",
    "\n",
    "\n",
    "The function will display the directory where the data is stored as well as the subfolders associated and the label-folders. Images in the label-folder do not have names, just ID. "
   ]
  },
  {
   "cell_type": "code",
   "execution_count": 13,
   "metadata": {},
   "outputs": [
    {
     "name": "stdout",
     "output_type": "stream",
     "text": [
      "dataset \n",
      "    Test    \n",
      "    Train   \n",
      "        cow     \n",
      "        elephant\n",
      "        horse   \n",
      "        spider  \n",
      "    Valid   \n",
      "        cow     \n",
      "        elephant\n",
      "        horse   \n",
      "        spider  \n",
      "\u001b[1mNumber of Training samples: \u001b[0m4000\n",
      "\u001b[1mNumber of Valid samples: \u001b[0m800\n"
     ]
    }
   ],
   "source": [
    "import os \n",
    "# Text formatting\n",
    "bold = \"\\033[1m\"\n",
    "end = \"\\033[0m\"\n",
    "\n",
    "root_dir = r\"D:\\Datasets\\dataset\"\n",
    "train_dir = os.path.join(root_dir, \"Train\")\n",
    "# test_dir = os.path.join(root_dir, \"Test\")\n",
    "valid_dir = os.path.join(root_dir, \"Valid\")\n",
    "\n",
    "def list_folders(startpath, train_path, valid_path):\n",
    "    num_train_files = 0\n",
    "    num_val_files = 0\n",
    "    \n",
    "    # display the directory and associated label folders\n",
    "    for root, _, files in os.walk(startpath):\n",
    "        level = root.replace(startpath, '').count(os.sep)\n",
    "        indent = ' ' * 4 * (level)\n",
    "        print(f'{indent}{os.path.basename(root):<8}')\n",
    "\n",
    "    # display the number of samples in train and validation folders\n",
    "    for path in os.listdir(train_path):\n",
    "        num_train_files += len(os.listdir(os.path.join(train_dir, path)))\n",
    "\n",
    "    for path in os.listdir(valid_path):\n",
    "        num_val_files += len(os.listdir(os.path.join(valid_dir, path)))\n",
    "\n",
    "    print(f\"{bold}Number of Training samples: {end}{num_train_files}\")\n",
    "    print(f\"{bold}Number of Valid samples: {end}{num_val_files}\")\n",
    "\n",
    "\n",
    "list_folders(root_dir, train_dir, valid_dir)"
   ]
  },
  {
   "cell_type": "code",
   "execution_count": null,
   "metadata": {},
   "outputs": [],
   "source": []
  }
 ],
 "metadata": {
  "kernelspec": {
   "display_name": "tf_gpu",
   "language": "python",
   "name": "python3"
  },
  "language_info": {
   "codemirror_mode": {
    "name": "ipython",
    "version": 3
   },
   "file_extension": ".py",
   "mimetype": "text/x-python",
   "name": "python",
   "nbconvert_exporter": "python",
   "pygments_lexer": "ipython3",
   "version": "3.9.7 (default, Sep 16 2021, 16:59:28) [MSC v.1916 64 bit (AMD64)]"
  },
  "orig_nbformat": 4,
  "vscode": {
   "interpreter": {
    "hash": "07ca2b236c0269e8e97825cf335cfca31b1a5fed1dbdb20dbc94341f784cd392"
   }
  }
 },
 "nbformat": 4,
 "nbformat_minor": 2
}
