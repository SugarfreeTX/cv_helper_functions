{
 "cells": [
  {
   "cell_type": "code",
   "execution_count": 1,
   "metadata": {},
   "outputs": [],
   "source": [
    "import os, pathlib, shutil\n",
    "from dataclasses import dataclass"
   ]
  },
  {
   "cell_type": "code",
   "execution_count": 2,
   "metadata": {},
   "outputs": [],
   "source": [
    "@dataclass\n",
    "class CopyToDir:\n",
    "    ROOT_PATH: str = os.getcwd() # r'c:'\n",
    "    SOURCE_PATH: str = os.path.join(ROOT_PATH, 'source')"
   ]
  },
  {
   "cell_type": "code",
   "execution_count": 3,
   "metadata": {},
   "outputs": [],
   "source": [
    "# Function to copy files from source to destination\n",
    "\n",
    "def make_subset(subset_name, start_num, end_num, source_path, dest_path):\n",
    "    \"\"\"\n",
    "    This function was built using the flower dataset from Kaggle tha has 5 different classes. \n",
    "    It can copy the images from a source and split them into subset folders in a destination folder.\n",
    "    ARGS: \n",
    "        subset_name: name of the subset to be created\n",
    "        start_num: starting number of the files to be copied\n",
    "        end_num: ending number of the files to be copied\n",
    "    \"\"\"\n",
    "    # below would be for jpg that are labeld numericallly\n",
    "    # for i in range(start_num, end_num):\n",
    "    #     file_name = f'{i}.jpg'\n",
    "    #     source_file = os.path.join(source_path, file_name)\n",
    "    #     dest_file = os.path.join(dest_path, subset_name, file_name)\n",
    "    #     shutil.copyfile(source_file, dest_file)\n",
    "\n",
    "    for category in ('Lily', 'Lotus', 'Orchid', 'Sunflower', 'Tulip'):\n",
    "        # dir = dest_path + '\\\\' + subset_name + '\\\\' + category  # or \n",
    "        dir = pathlib.Path('flowers_datasets') / subset_name / category\n",
    "        os.makedirs(dir, exist_ok=True)\n",
    "        for file_name in os.listdir(source_path + '\\\\' + category)[start_num:end_num]:\n",
    "            source_file = os.path.join(source_path, category, file_name) # or source_path = source_path / category / file_name\n",
    "            dest_file = os.path.join(dest_path, subset_name, category, file_name) # or \n",
    "            # dest_subdir = pathlib.Path('flowers_datasets') / subset_name / category\n",
    "            # dest_file = dest_subdir / file_name\n",
    "            shutil.copyfile(source_file, dest_file)"
   ]
  },
  {
   "cell_type": "code",
   "execution_count": null,
   "metadata": {},
   "outputs": [],
   "source": []
  }
 ],
 "metadata": {
  "kernelspec": {
   "display_name": "Python 3",
   "language": "python",
   "name": "python3"
  },
  "language_info": {
   "codemirror_mode": {
    "name": "ipython",
    "version": 3
   },
   "file_extension": ".py",
   "mimetype": "text/x-python",
   "name": "python",
   "nbconvert_exporter": "python",
   "pygments_lexer": "ipython3",
   "version": "3.10.4"
  },
  "orig_nbformat": 4
 },
 "nbformat": 4,
 "nbformat_minor": 2
}
